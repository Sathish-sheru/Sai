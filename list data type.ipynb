{
 "cells": [
  {
   "cell_type": "code",
   "execution_count": 2,
   "id": "eb9c845e",
   "metadata": {},
   "outputs": [
    {
     "data": {
      "text/plain": [
       "[12, 34, 45, 36, 36, 377, 27, 25, 37, 38, 13]"
      ]
     },
     "execution_count": 2,
     "metadata": {},
     "output_type": "execute_result"
    }
   ],
   "source": [
    "# list data type**\n",
    "lst=[12,34,45,36,36,377,27,25,37,38,13]\n",
    "lst"
   ]
  },
  {
   "cell_type": "code",
   "execution_count": 8,
   "id": "51e7afa8",
   "metadata": {},
   "outputs": [
    {
     "data": {
      "text/plain": [
       "[12, 34, 45, 36, 36, 377, 27, 25, 37, 38, 13, 12, [12, 34, 53]]"
      ]
     },
     "execution_count": 8,
     "metadata": {},
     "output_type": "execute_result"
    }
   ],
   "source": [
    "lst.append([12,34,53])\n",
    "lst"
   ]
  },
  {
   "cell_type": "code",
   "execution_count": 4,
   "id": "10594f27",
   "metadata": {},
   "outputs": [],
   "source": [
    "lst.append(12)"
   ]
  },
  {
   "cell_type": "code",
   "execution_count": 5,
   "id": "a8ce1ab4",
   "metadata": {},
   "outputs": [
    {
     "data": {
      "text/plain": [
       "[12, 34, 45, 36, 36, 377, 27, 25, 37, 38, 13, 12]"
      ]
     },
     "execution_count": 5,
     "metadata": {},
     "output_type": "execute_result"
    }
   ],
   "source": [
    "lst"
   ]
  },
  {
   "cell_type": "code",
   "execution_count": 12,
   "id": "12f27a71",
   "metadata": {},
   "outputs": [
    {
     "data": {
      "text/plain": [
       "[12,\n",
       " 34,\n",
       " 45,\n",
       " 36,\n",
       " 36,\n",
       " 377,\n",
       " 27,\n",
       " 25,\n",
       " 37,\n",
       " 38,\n",
       " 13,\n",
       " 12,\n",
       " [12, 34, 53],\n",
       " 12,\n",
       " 43,\n",
       " 56,\n",
       " 12,\n",
       " 43,\n",
       " 56,\n",
       " 12,\n",
       " 43,\n",
       " 56]"
      ]
     },
     "execution_count": 12,
     "metadata": {},
     "output_type": "execute_result"
    }
   ],
   "source": [
    "lst.extend([12,43,56])\n"
   ]
  },
  {
   "cell_type": "code",
   "execution_count": 14,
   "id": "a5d8c35f",
   "metadata": {},
   "outputs": [
    {
     "name": "stdout",
     "output_type": "stream",
     "text": [
      "[12, 34, 45, 36, 36, 377, 27, 25, 37, 38, 13, 12, [12, 34, 53], 12, 43, 56, 12, 43, 56, 12, 43, 56] "
     ]
    }
   ],
   "source": [
    "print(lst,end=\" \")"
   ]
  },
  {
   "cell_type": "code",
   "execution_count": 15,
   "id": "73bb8e96",
   "metadata": {},
   "outputs": [
    {
     "ename": "TypeError",
     "evalue": "'<' not supported between instances of 'list' and 'int'",
     "output_type": "error",
     "traceback": [
      "\u001b[1;31m---------------------------------------------------------------------------\u001b[0m",
      "\u001b[1;31mTypeError\u001b[0m                                 Traceback (most recent call last)",
      "\u001b[1;32m~\\AppData\\Local\\Temp\\ipykernel_13116\\4027238925.py\u001b[0m in \u001b[0;36m<module>\u001b[1;34m\u001b[0m\n\u001b[1;32m----> 1\u001b[1;33m \u001b[0mlst\u001b[0m\u001b[1;33m.\u001b[0m\u001b[0msort\u001b[0m\u001b[1;33m(\u001b[0m\u001b[1;33m)\u001b[0m\u001b[1;33m\u001b[0m\u001b[1;33m\u001b[0m\u001b[0m\n\u001b[0m",
      "\u001b[1;31mTypeError\u001b[0m: '<' not supported between instances of 'list' and 'int'"
     ]
    }
   ],
   "source": [
    "lst.sort()"
   ]
  },
  {
   "cell_type": "code",
   "execution_count": 16,
   "id": "559c3c23",
   "metadata": {},
   "outputs": [
    {
     "data": {
      "text/plain": [
       "[12, 34, 53]"
      ]
     },
     "execution_count": 16,
     "metadata": {},
     "output_type": "execute_result"
    }
   ],
   "source": [
    "lst.pop(12)"
   ]
  },
  {
   "cell_type": "code",
   "execution_count": 17,
   "id": "ceec9c67",
   "metadata": {},
   "outputs": [
    {
     "data": {
      "text/plain": [
       "[12,\n",
       " 12,\n",
       " 13,\n",
       " 25,\n",
       " 27,\n",
       " 34,\n",
       " 36,\n",
       " 36,\n",
       " 37,\n",
       " 38,\n",
       " 45,\n",
       " 377,\n",
       " 12,\n",
       " 43,\n",
       " 56,\n",
       " 12,\n",
       " 43,\n",
       " 56,\n",
       " 12,\n",
       " 43,\n",
       " 56]"
      ]
     },
     "execution_count": 17,
     "metadata": {},
     "output_type": "execute_result"
    }
   ],
   "source": [
    "lst"
   ]
  },
  {
   "cell_type": "code",
   "execution_count": 18,
   "id": "d0e10340",
   "metadata": {},
   "outputs": [],
   "source": [
    "lst.sort()"
   ]
  },
  {
   "cell_type": "code",
   "execution_count": 19,
   "id": "2f79fef8",
   "metadata": {},
   "outputs": [
    {
     "data": {
      "text/plain": [
       "[12,\n",
       " 12,\n",
       " 12,\n",
       " 12,\n",
       " 12,\n",
       " 13,\n",
       " 25,\n",
       " 27,\n",
       " 34,\n",
       " 36,\n",
       " 36,\n",
       " 37,\n",
       " 38,\n",
       " 43,\n",
       " 43,\n",
       " 43,\n",
       " 45,\n",
       " 56,\n",
       " 56,\n",
       " 56,\n",
       " 377]"
      ]
     },
     "execution_count": 19,
     "metadata": {},
     "output_type": "execute_result"
    }
   ],
   "source": [
    "lst"
   ]
  },
  {
   "cell_type": "code",
   "execution_count": 20,
   "id": "25ff32ba",
   "metadata": {},
   "outputs": [],
   "source": [
    "lst.reverse()"
   ]
  },
  {
   "cell_type": "code",
   "execution_count": 21,
   "id": "0d3c606c",
   "metadata": {},
   "outputs": [
    {
     "data": {
      "text/plain": [
       "[377,\n",
       " 56,\n",
       " 56,\n",
       " 56,\n",
       " 45,\n",
       " 43,\n",
       " 43,\n",
       " 43,\n",
       " 38,\n",
       " 37,\n",
       " 36,\n",
       " 36,\n",
       " 34,\n",
       " 27,\n",
       " 25,\n",
       " 13,\n",
       " 12,\n",
       " 12,\n",
       " 12,\n",
       " 12,\n",
       " 12]"
      ]
     },
     "execution_count": 21,
     "metadata": {},
     "output_type": "execute_result"
    }
   ],
   "source": [
    "lst"
   ]
  },
  {
   "cell_type": "code",
   "execution_count": 22,
   "id": "ac649728",
   "metadata": {},
   "outputs": [],
   "source": [
    "lst.sort()"
   ]
  },
  {
   "cell_type": "code",
   "execution_count": 23,
   "id": "97f32144",
   "metadata": {},
   "outputs": [
    {
     "data": {
      "text/plain": [
       "[12,\n",
       " 12,\n",
       " 12,\n",
       " 12,\n",
       " 12,\n",
       " 13,\n",
       " 25,\n",
       " 27,\n",
       " 34,\n",
       " 36,\n",
       " 36,\n",
       " 37,\n",
       " 38,\n",
       " 43,\n",
       " 43,\n",
       " 43,\n",
       " 45,\n",
       " 56,\n",
       " 56,\n",
       " 56,\n",
       " 377]"
      ]
     },
     "execution_count": 23,
     "metadata": {},
     "output_type": "execute_result"
    }
   ],
   "source": [
    "lst"
   ]
  },
  {
   "cell_type": "code",
   "execution_count": 24,
   "id": "1fb35995",
   "metadata": {},
   "outputs": [
    {
     "data": {
      "text/plain": [
       "[377,\n",
       " 56,\n",
       " 56,\n",
       " 56,\n",
       " 45,\n",
       " 43,\n",
       " 43,\n",
       " 43,\n",
       " 38,\n",
       " 37,\n",
       " 36,\n",
       " 36,\n",
       " 34,\n",
       " 27,\n",
       " 25,\n",
       " 13,\n",
       " 12,\n",
       " 12,\n",
       " 12,\n",
       " 12,\n",
       " 12]"
      ]
     },
     "execution_count": 24,
     "metadata": {},
     "output_type": "execute_result"
    }
   ],
   "source": [
    "lst.sort(reverse=True)\n",
    "lst"
   ]
  },
  {
   "cell_type": "code",
   "execution_count": 25,
   "id": "d77dd5ca",
   "metadata": {},
   "outputs": [
    {
     "data": {
      "text/plain": [
       "5"
      ]
     },
     "execution_count": 25,
     "metadata": {},
     "output_type": "execute_result"
    }
   ],
   "source": [
    "lst.count(12)"
   ]
  },
  {
   "cell_type": "code",
   "execution_count": 26,
   "id": "b61a1a68",
   "metadata": {},
   "outputs": [
    {
     "data": {
      "text/plain": [
       "0"
      ]
     },
     "execution_count": 26,
     "metadata": {},
     "output_type": "execute_result"
    }
   ],
   "source": [
    "lst.count(3)"
   ]
  },
  {
   "cell_type": "code",
   "execution_count": 27,
   "id": "80d58151",
   "metadata": {},
   "outputs": [
    {
     "data": {
      "text/plain": [
       "12"
      ]
     },
     "execution_count": 27,
     "metadata": {},
     "output_type": "execute_result"
    }
   ],
   "source": [
    "lst.pop()"
   ]
  },
  {
   "cell_type": "code",
   "execution_count": 28,
   "id": "b51515ad",
   "metadata": {},
   "outputs": [
    {
     "data": {
      "text/plain": [
       "12"
      ]
     },
     "execution_count": 28,
     "metadata": {},
     "output_type": "execute_result"
    }
   ],
   "source": [
    "lst.pop()"
   ]
  },
  {
   "cell_type": "code",
   "execution_count": 29,
   "id": "bb9f8a9e",
   "metadata": {},
   "outputs": [],
   "source": [
    "lst.extend({11,354,36})"
   ]
  },
  {
   "cell_type": "code",
   "execution_count": 31,
   "id": "4a6e5716",
   "metadata": {},
   "outputs": [
    {
     "data": {
      "text/plain": [
       "[377,\n",
       " 56,\n",
       " 56,\n",
       " 56,\n",
       " 45,\n",
       " 43,\n",
       " 43,\n",
       " 43,\n",
       " 38,\n",
       " 37,\n",
       " 36,\n",
       " 36,\n",
       " 34,\n",
       " 27,\n",
       " 25,\n",
       " 13,\n",
       " 12,\n",
       " 12,\n",
       " 12,\n",
       " 11,\n",
       " 354,\n",
       " 36]"
      ]
     },
     "execution_count": 31,
     "metadata": {},
     "output_type": "execute_result"
    }
   ],
   "source": [
    "lst"
   ]
  },
  {
   "cell_type": "code",
   "execution_count": null,
   "id": "15294cc4",
   "metadata": {},
   "outputs": [],
   "source": []
  }
 ],
 "metadata": {
  "kernelspec": {
   "display_name": "Python 3 (ipykernel)",
   "language": "python",
   "name": "python3"
  },
  "language_info": {
   "codemirror_mode": {
    "name": "ipython",
    "version": 3
   },
   "file_extension": ".py",
   "mimetype": "text/x-python",
   "name": "python",
   "nbconvert_exporter": "python",
   "pygments_lexer": "ipython3",
   "version": "3.9.13"
  }
 },
 "nbformat": 4,
 "nbformat_minor": 5
}
